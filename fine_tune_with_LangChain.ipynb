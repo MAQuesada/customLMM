{
 "cells": [
  {
   "cell_type": "markdown",
   "metadata": {},
   "source": [
    "# **Fine Tune using Local LMM on your data using `LangChain`**  [<sup> *source*<sup>](https://archive.is/medium.com/towards-artificial-intelligence/finetuning-local-large-language-models-on-your-data-using-langchain-9229da66ad9b)\n",
    "\n",
    "## Extracting Knowledge from Data using LLMs\n",
    "\n",
    "![alt](resources/document%20understading%20and%20contex-answer%20generation%20using%20LMM.jpg)\n",
    "\n",
    "Langchain offers a variety of features to simplify document handling, including text files, PDF files, and tabular databases like Google BigQuery. The workflow consists of the following steps:\n",
    "\n",
    "1. Use Langchain **loaders** to import the desired documents.\n",
    "\n",
    "2. Divide the documents into **smaller sections or chunks**.\n",
    "\n",
    "3. Convert the text into **embeddings**, which represent the semantic meaning.\n",
    "\n",
    "4. Store the embeddings in a **database**, specifically ChromaDB.\n",
    "\n",
    "5. Conduct a semantic search to retrieve the most relevant content based on our query.\n",
    "\n",
    "6. Incorporate the **retrieved information as context** into our Large Language Model (LLM).\n"
   ]
  },
  {
   "cell_type": "code",
   "execution_count": null,
   "metadata": {},
   "outputs": [],
   "source": [
    "# INSTALL DEPENDENCIES\n",
    "# ! pip install langchain==0.0.163\n",
    "# ! pip install pygpt4all==1.1.0\n",
    "# ! pip install transformers\n",
    "# ! pip install datasets\n",
    "# ! pip install chromadb\n",
    "# ! pip install tiktoken"
   ]
  },
  {
   "cell_type": "markdown",
   "metadata": {},
   "source": [
    "## Download the dataset\n",
    "\n",
    "Consider a scenario where you, as a machine learning engineer, are engaged in working with delicate medical data. Specifically, this data comprises dialog interactions between patients and doctors.\n",
    "Your objective is to develop an application that utilizes these dialog interactions as a knowledge base. This application would serve as a resource to provide initial answers to basic patient queries before they are redirected to a doctor. \n"
   ]
  },
  {
   "cell_type": "code",
   "execution_count": 2,
   "metadata": {},
   "outputs": [
    {
     "data": {
      "text/html": [
       "<div>\n",
       "<style scoped>\n",
       "    .dataframe tbody tr th:only-of-type {\n",
       "        vertical-align: middle;\n",
       "    }\n",
       "\n",
       "    .dataframe tbody tr th {\n",
       "        vertical-align: top;\n",
       "    }\n",
       "\n",
       "    .dataframe thead th {\n",
       "        text-align: right;\n",
       "    }\n",
       "</style>\n",
       "<table border=\"1\" class=\"dataframe\">\n",
       "  <thead>\n",
       "    <tr style=\"text-align: right;\">\n",
       "      <th></th>\n",
       "      <th>description</th>\n",
       "      <th>utterances</th>\n",
       "    </tr>\n",
       "  </thead>\n",
       "  <tbody>\n",
       "    <tr>\n",
       "      <th>0</th>\n",
       "      <td>throat a bit sore and want to get a good imune...</td>\n",
       "      <td>[patient: throat a bit sore and want to get a ...</td>\n",
       "    </tr>\n",
       "    <tr>\n",
       "      <th>1</th>\n",
       "      <td>hey there i have had cold \"symptoms\" for over ...</td>\n",
       "      <td>[patient: hey there i have had cold \"symptoms\"...</td>\n",
       "    </tr>\n",
       "    <tr>\n",
       "      <th>2</th>\n",
       "      <td>i have a tight and painful chest with a dry co...</td>\n",
       "      <td>[patient: i have a tight and painful chest wit...</td>\n",
       "    </tr>\n",
       "    <tr>\n",
       "      <th>3</th>\n",
       "      <td>what will happen after the incubation period f...</td>\n",
       "      <td>[patient: what will happen after the incubatio...</td>\n",
       "    </tr>\n",
       "    <tr>\n",
       "      <th>4</th>\n",
       "      <td>suggest treatment for pneumonia</td>\n",
       "      <td>[patient: just found out i was pregnant. yeste...</td>\n",
       "    </tr>\n",
       "  </tbody>\n",
       "</table>\n",
       "</div>"
      ],
      "text/plain": [
       "                                         description  \\\n",
       "0  throat a bit sore and want to get a good imune...   \n",
       "1  hey there i have had cold \"symptoms\" for over ...   \n",
       "2  i have a tight and painful chest with a dry co...   \n",
       "3  what will happen after the incubation period f...   \n",
       "4                    suggest treatment for pneumonia   \n",
       "\n",
       "                                          utterances  \n",
       "0  [patient: throat a bit sore and want to get a ...  \n",
       "1  [patient: hey there i have had cold \"symptoms\"...  \n",
       "2  [patient: i have a tight and painful chest wit...  \n",
       "3  [patient: what will happen after the incubatio...  \n",
       "4  [patient: just found out i was pregnant. yeste...  "
      ]
     },
     "execution_count": 2,
     "metadata": {},
     "output_type": "execute_result"
    }
   ],
   "source": [
    "import pandas as pd\n",
    "from datasets import load_dataset\n",
    "\n",
    "# Download the medical_dialog dataset from Hugging Face\n",
    "dataset = load_dataset('medical_dialog', 'processed.en')\n",
    "\n",
    "df = pd.DataFrame(dataset['train'])\n",
    "\n",
    "df.head()"
   ]
  },
  {
   "cell_type": "code",
   "execution_count": 3,
   "metadata": {},
   "outputs": [
    {
     "data": {
      "text/html": [
       "<div>\n",
       "<style scoped>\n",
       "    .dataframe tbody tr th:only-of-type {\n",
       "        vertical-align: middle;\n",
       "    }\n",
       "\n",
       "    .dataframe tbody tr th {\n",
       "        vertical-align: top;\n",
       "    }\n",
       "\n",
       "    .dataframe thead th {\n",
       "        text-align: right;\n",
       "    }\n",
       "</style>\n",
       "<table border=\"1\" class=\"dataframe\">\n",
       "  <thead>\n",
       "    <tr style=\"text-align: right;\">\n",
       "      <th></th>\n",
       "      <th>dialog</th>\n",
       "    </tr>\n",
       "  </thead>\n",
       "  <tbody>\n",
       "    <tr>\n",
       "      <th>0</th>\n",
       "      <td>patient: throat a bit sore and want to get a g...</td>\n",
       "    </tr>\n",
       "    <tr>\n",
       "      <th>1</th>\n",
       "      <td>doctor: during this pandemic. throat pain can ...</td>\n",
       "    </tr>\n",
       "    <tr>\n",
       "      <th>2</th>\n",
       "      <td>patient: hey there i have had cold \"symptoms\" ...</td>\n",
       "    </tr>\n",
       "    <tr>\n",
       "      <th>3</th>\n",
       "      <td>doctor: yes. protection. it is not enough symp...</td>\n",
       "    </tr>\n",
       "    <tr>\n",
       "      <th>4</th>\n",
       "      <td>patient: i have a tight and painful chest with...</td>\n",
       "    </tr>\n",
       "  </tbody>\n",
       "</table>\n",
       "</div>"
      ],
      "text/plain": [
       "                                              dialog\n",
       "0  patient: throat a bit sore and want to get a g...\n",
       "1  doctor: during this pandemic. throat pain can ...\n",
       "2  patient: hey there i have had cold \"symptoms\" ...\n",
       "3  doctor: yes. protection. it is not enough symp...\n",
       "4  patient: i have a tight and painful chest with..."
      ]
     },
     "execution_count": 3,
     "metadata": {},
     "output_type": "execute_result"
    }
   ],
   "source": [
    "dialog = []\n",
    "# make each sentence on a seperate row\n",
    "patient, doctor = zip(*df['utterances'])\n",
    "for i in range(len(patient)):\n",
    "  dialog.append(patient[i])\n",
    "  dialog.append(doctor[i])\n",
    "\n",
    "dialog_df = pd.DataFrame({\"dialog\": dialog})\n",
    "\n",
    "# save the data to txt file\n",
    "dialog_df.to_csv('resources/data.txt', sep=' ', index=False)\n",
    "dialog_df.head()"
   ]
  },
  {
   "cell_type": "markdown",
   "metadata": {},
   "source": [
    "## Document embedding\n",
    "\n",
    "First, a text loader is created by specifying a file named data.txt, which contains our domain data to be processed. After that, the document is split into multiple chunks and embedded using the `HuggingFaceEmbeddings` class from Langchain.\n",
    "\n",
    "HuggingFaceEmbeddings uses a sentence transform model **all-mpnet-base-v2** that was trained on a 1B sentence pair dataset, which maps sentences and paragraphs to a 768-dimensional dense vector space.\n",
    "\n",
    "Finally, the embedded document is stored in a `“chroma DB”` database using the `VectorstoreIndexCreator`. This step creates an index for the document as well, which allows for efficient searching and retrieval based on its embedded representation."
   ]
  },
  {
   "cell_type": "code",
   "execution_count": 5,
   "metadata": {},
   "outputs": [],
   "source": [
    "from langchain.document_loaders import TextLoader\n",
    "\n",
    "from langchain.document_loaders import TextLoader\n",
    "from langchain.indexes import VectorstoreIndexCreator\n",
    "from langchain.embeddings import HuggingFaceEmbeddings\n",
    "\n",
    "# add the path to the CV as a PDF\n",
    "loader = TextLoader('resources/data.txt')\n",
    "\n",
    "# Embed the document and store into chroma DB\n",
    "index = VectorstoreIndexCreator(embedding= HuggingFaceEmbeddings()).from_loaders([loader])\n",
    "    "
   ]
  },
  {
   "cell_type": "markdown",
   "metadata": {},
   "source": [
    "## Load the LLM \n",
    "In ours case, we use `Gpt4all-J`, the originally released model had a research-only license while the newly released Gpt4all-J has an *Apache-2 license*."
   ]
  },
  {
   "cell_type": "code",
   "execution_count": 4,
   "metadata": {},
   "outputs": [
    {
     "name": "stdout",
     "output_type": "stream",
     "text": [
      "Found model file at  F:\\\\DOCUMENTOS\\\\DATA_SCIENCE\\\\Large Language Models LLM\\\\ggml-gpt4all-j-v1.3-groovy.bin\n"
     ]
    }
   ],
   "source": [
    "from langchain.llms import GPT4All\n",
    "from langchain.callbacks.streaming_stdout import StreamingStdOutCallbackHandler\n",
    "\n",
    "# specify the path to the .bin downloaded file\n",
    "# replace with your desired local file path\n",
    "local_path = 'F:\\\\DOCUMENTOS\\\\DATA_SCIENCE\\Large Language Models LLM\\\\ggml-gpt4all-j-v1.3-groovy.bin'\n",
    "# Callbacks support token-wise streaming\n",
    "callbacks = [StreamingStdOutCallbackHandler()]\n",
    "# Verbose is required to pass to the callback manager\n",
    "llm = GPT4All(model=local_path, callbacks=callbacks, verbose=True, backend='gptj')\n"
   ]
  },
  {
   "cell_type": "markdown",
   "metadata": {},
   "source": [
    "## Similarity Search\n",
    "\n",
    "Similarity search is a process of finding documents or pieces of information that are most similar to a given query or question.It helps to retrieve relevant content based on the similarity of their contextual meaning.\n",
    "\n",
    "In our case, the **similarity search** is performed using an index object that has been previously created. We can also specify that the search should retrieve the top 4 most similar documents or pieces of information related to the query.\n",
    "\n"
   ]
  },
  {
   "cell_type": "code",
   "execution_count": 9,
   "metadata": {},
   "outputs": [
    {
     "name": "stdout",
     "output_type": "stream",
     "text": [
      "Retrieving information related to your question...\n",
      "Found this content which is most similar to your question: \n",
      " \"doctor: in brief: standard precautions covid-19 is now official name for the illness caused by the newly discovered coronavirus (coronavirus infectious disease - 2019). so far it is extremely rare in the us (2/12/20). until and unless covid-19 becomes common no special precautions are necessary. in any dormitory or group living situation people with respiratory symptoms (colds, flu, etc.) should cover their coughs and wash hands frequently.\"\n",
      "\"patient: is gargling with listerine effective against corona virus induced sore throat? will it kill the virus? how about with mixture of warm water and salt, will this also kill virus!\"\n",
      "\"doctor: gargling. you can't be sure but it may help if you do those things as well as using zinc lozenges at the first sign of any throat discomfort and stay hydrated also. i recommend them. at least it'll do no harm.\"\n",
      "\"doctor: in brief: standard precautions covid-19 is now official name for the illness caused by the newly discovered coronavirus (coronavirus infectious disease - 2019). so far it is extremely rare in the us (2/12/20). until and unless covid-19 becomes common no special precautions are necessary. in any dormitory or group living situation people with respiratory symptoms (colds, flu, etc.) should cover their coughs and wash hands frequently.\"\n",
      "\"patient: is gargling with listerine effective against corona virus induced sore throat? will it kill the virus? how about with mixture of warm water and salt, will this also kill virus!\"\n",
      "\"doctor: gargling. you can't be sure but it may help if you do those things as well as using zinc lozenges at the first sign of any throat discomfort and stay hydrated also. i recommend them. at least it'll do no harm.\"\n",
      "\"doctor: in brief: may call dr on video throat symptoms can be from strep throat infection (antibiotics needed), a cold or influenza (antibiotics usually not used), or from some other cause such as allergies or irritants. usually, a person sees a doctor (call first) if the throat issue is bothersome, recurrent, or doesn't go away quickly. covid-19 infections tend to have cough, whereas strep usually lacks cough but has more throat pain. would you like to video or text chat with me?\"\n",
      "\"patient: i have had a sore throat for a few days, tuesday night it felt like tonsils, yesterday it started becoming scratchy and today i have started coughing and spitting mucus. i do not have a fever, but i get light headed here and there, could it be covid?\"\n",
      "\"doctor: test for covid-19. on this times better to be sure you donâ€™t become contagious and spread the virus, try to get tested for covid-19.\"\n",
      "\"doctor: in brief: may call dr on video throat symptoms can be from strep throat infection (antibiotics needed), a cold or influenza (antibiotics usually not used), or from some other cause such as allergies or irritants. usually, a person sees a doctor (call first) if the throat issue is bothersome, recurrent, or doesn't go away quickly. covid-19 infections tend to have cough, whereas strep usually lacks cough but has more throat pain. would you like to video or text chat with me?\"\n",
      "\"patient: i have had a sore throat for a few days, tuesday night it felt like tonsils, yesterday it started becoming scratchy and today i have started coughing and spitting mucus. i do not have a fever, but i get light headed here and there, could it be covid?\"\n",
      "\"doctor: test for covid-19. on this times better to be sure you donâ€™t become contagious and spread the virus, try to get tested for covid-19.\"\n"
     ]
    }
   ],
   "source": [
    "query = \"what is the solution for soar throat\"\n",
    "\n",
    "# perform similarity search and retrieve the context from our documents\n",
    "results = index.vectorstore.similarity_search(query, k=4)\n",
    "# join all context information (top 4) into one string\n",
    "context = \"\\n\".join([document.page_content for document in results])\n",
    "print(f\"Retrieving information related to your question...\")\n",
    "print(f\"Found this content which is most similar to your question: \\n {context}\")\n"
   ]
  },
  {
   "cell_type": "markdown",
   "metadata": {},
   "source": [
    "## Add context to LLM\n",
    "\n",
    "After executing the **similarity search**, we can join the context information from the retrieved documents into a single string forming the `“context.”` This context will then be fed into the Gpt4all to generate an informed answer to our question.\n",
    "\n",
    "Adding `context` to LLM involves incorporating additional information or text snippets into the model’s input to enhance its understanding and generate more contextually relevant responses. By providing relevant context, the model gains a better understanding of the conversation or task at hand.\n",
    "\n",
    "In our case, the context was retrieved using the similarity search by returning the dialogs that are closest to the question the user has asked. These dialogs are then fed to the LLM alongside the original questions in order to generate the final answer.\n"
   ]
  },
  {
   "cell_type": "code",
   "execution_count": 10,
   "metadata": {},
   "outputs": [
    {
     "name": "stdout",
     "output_type": "stream",
     "text": [
      "Processing the information with gpt4all...\n",
      "\n",
      " \n",
      "1) First of all, it is important that we understand the symptoms of sore throat as well as its causes. The most common cause of a sore throat in adults and children are viral infections such as colds or flu viruses. However, there can be other reasons for this symptom too like allergies, acid reflux, asthma etc.\n",
      "2) If you have been experiencing these symptoms for more than two days then it is important to consult with your doctor immediately. \n",
      "3) In case of a viral infection such as colds or flu viruses, the best way to treat sore throat would be gargling salt water and zinc lozenges which can help in reducing inflammation caused by virus. However, if you have been experiencing these symptoms for more than two days then it is important that we consult with your doctor immediately.\n",
      "4) In case of allergies or acid reflux the best way to treat sore throat would be gargling salt water and zinc lozenges which can help in reducing inflammation caused by virus as well as reduce irritation caused by allergy/acid reflux. \n",
      "5) If you have been experiencing these symptoms for more than two days then it is important that we consult with your doctor immediately. \n",
      "1) First of all, it is important that we understand the symptoms of sore throat as well as its causes. The most common cause of a sore throat in adults and children are viral infections such as colds or flu viruses. However, there can be other reasons for this symptom too like allergies, acid reflux, asthma etc.\n",
      "2) If you have been experiencing these symptoms for more than two days then it is important to consult with your doctor immediately. \n",
      "3) In case of a viral infection such as colds or flu viruses, the best way to treat sore throat would be gargling salt water and zinc lozenges which can help in reducing inflammation caused by virus. However, if you have been experiencing these symptoms for more than two days then it is important that we consult with your doctor immediately.\n",
      "4) In case of allergies or acid reflux the best way to treat sore throat would be gargling salt water and zinc lozenges which can help in reducing inflammation caused by virus as well as reduce irritation caused by allergy/acid reflux. \n",
      "5) If you have been experiencing these symptoms for more than two days then it is important that we consult with your doctor immediately.\n"
     ]
    }
   ],
   "source": [
    "from langchain import PromptTemplate, LLMChain\n",
    "\n",
    "from langchain import PromptTemplate\n",
    "\n",
    "template = \"\"\"\n",
    "Please use the following context to answer questions.\n",
    "Context: {context}\n",
    "---\n",
    "Question: {question}\n",
    "Answer: Let's think step by step.\"\"\"\n",
    "\n",
    "prompt = PromptTemplate(\n",
    "    template=template, input_variables=[\"context\", \"question\"]).partial(\n",
    "    context=context)\n",
    "\n",
    "llm_chain = LLMChain(prompt=prompt, llm=llm)\n",
    "\n",
    "print(\"Processing the information with gpt4all...\\n\")\n",
    "print(llm_chain.run(query))\n"
   ]
  },
  {
   "cell_type": "markdown",
   "metadata": {},
   "source": [
    "# **Another** [**example**](https://medium.com/ai-in-plain-english/fine-tuning-large-language-models-with-langchain-1cf453349001)\n",
    "\n",
    "Suppose we have a collection of CVs in PDF format, and we want to use an LLM to extract information about the candidates or evaluate their suitability for a particular role."
   ]
  },
  {
   "cell_type": "code",
   "execution_count": null,
   "metadata": {},
   "outputs": [],
   "source": [
    "# DEPENDENCES\n",
    "# !pip install chromadb\n",
    "# !pip install langchain\n",
    "# !pip install pypdf\n",
    "# !pip install llama-index"
   ]
  },
  {
   "cell_type": "code",
   "execution_count": null,
   "metadata": {},
   "outputs": [],
   "source": [
    "import os \n",
    "# IF we use OPEN-IA,need to add your openai api key\n",
    "os.environ[\"OPENAI_API_KEY\"] =\"your openApi key\""
   ]
  },
  {
   "cell_type": "code",
   "execution_count": 2,
   "metadata": {},
   "outputs": [],
   "source": [
    "\n",
    "from langchain.document_loaders import PyPDFLoader\n",
    "from langchain.indexes import VectorstoreIndexCreator\n",
    "from langchain.embeddings import HuggingFaceEmbeddings\n",
    "\n",
    "loader = PyPDFLoader('resources/cv_david_smith.pdf')\n",
    "\n",
    "# intialize the Vector index creator, embedding by default is OpenAIEmbeddings\n",
    "index = VectorstoreIndexCreator(embedding= HuggingFaceEmbeddings()).from_loaders([loader])"
   ]
  },
  {
   "cell_type": "markdown",
   "metadata": {},
   "source": [
    "To retrieve some information from the document we need to write our question in form of a query. The index object we just created has the function query which gives it the impression that we are querying a database."
   ]
  },
  {
   "cell_type": "code",
   "execution_count": 5,
   "metadata": {},
   "outputs": [
    {
     "name": "stdout",
     "output_type": "stream",
     "text": [
      " The name of the candidate I am referring to in this context is DAVID SMITH."
     ]
    },
    {
     "data": {
      "text/plain": [
       "' The name of the candidate I am referring to in this context is DAVID SMITH.'"
      ]
     },
     "execution_count": 5,
     "metadata": {},
     "output_type": "execute_result"
    }
   ],
   "source": [
    "query = \"what is the name of the candidate you have ?\"\n",
    "index.query(query, llm=llm)"
   ]
  },
  {
   "cell_type": "markdown",
   "metadata": {},
   "source": [
    "## Adding multiple documents"
   ]
  },
  {
   "cell_type": "code",
   "execution_count": 11,
   "metadata": {},
   "outputs": [],
   "source": [
    "from langchain.document_loaders import PyPDFLoader\n",
    "from langchain.indexes import VectorstoreIndexCreator\n",
    "\n",
    "\n",
    "loaders = [PyPDFLoader('resources/cv_Jo Brown.pdf'), PyPDFLoader('resources/cv_david_smith.pdf')]\n",
    "index = VectorstoreIndexCreator(embedding= HuggingFaceEmbeddings()).from_loaders(loaders)"
   ]
  },
  {
   "cell_type": "code",
   "execution_count": 12,
   "metadata": {},
   "outputs": [
    {
     "name": "stdout",
     "output_type": "stream",
     "text": [
      " I am sorry but there is no information provided in the given context about any candidate."
     ]
    },
    {
     "data": {
      "text/plain": [
       "' I am sorry but there is no information provided in the given context about any candidate.'"
      ]
     },
     "execution_count": 12,
     "metadata": {},
     "output_type": "execute_result"
    }
   ],
   "source": [
    "index.query('Give me the names of the candidates you have',llm=llm)"
   ]
  },
  {
   "cell_type": "code",
   "execution_count": 14,
   "metadata": {},
   "outputs": [
    {
     "name": "stdout",
     "output_type": "stream",
     "text": [
      " CNN stands for \"Computer Networks\" in Spanish, which is the name of an online news website that focuses on computer science topics such as programming languages and software development. CNN stands for \"Computer Networks\" in Spanish, which is the name of an online news website that focuses on computer science topics such as programming languages and software development.\n"
     ]
    }
   ],
   "source": [
    "print(index.query('que es CNN en ciencias de la computacion ',llm=llm))\n"
   ]
  }
 ],
 "metadata": {
  "kernelspec": {
   "display_name": "Python 3",
   "language": "python",
   "name": "python3"
  },
  "language_info": {
   "codemirror_mode": {
    "name": "ipython",
    "version": 3
   },
   "file_extension": ".py",
   "mimetype": "text/x-python",
   "name": "python",
   "nbconvert_exporter": "python",
   "pygments_lexer": "ipython3",
   "version": "3.10.4"
  },
  "orig_nbformat": 4
 },
 "nbformat": 4,
 "nbformat_minor": 2
}
